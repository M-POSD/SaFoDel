{
 "cells": [
  {
   "cell_type": "code",
   "execution_count": 2,
   "metadata": {},
   "outputs": [],
   "source": [
    "import pandas as pd\n",
    "import numpy as np"
   ]
  },
  {
   "cell_type": "code",
   "execution_count": 30,
   "metadata": {},
   "outputs": [
    {
     "name": "stderr",
     "output_type": "stream",
     "text": [
      "/Users/badvendetta/anaconda3/lib/python3.8/site-packages/IPython/core/interactiveshell.py:3071: DtypeWarning: Columns (10,13) have mixed types.Specify dtype option on import or set low_memory=False.\n",
      "  has_raised = await self.run_ast_nodes(code_ast.body, cell_name,\n",
      "/Users/badvendetta/anaconda3/lib/python3.8/site-packages/IPython/core/interactiveshell.py:3071: DtypeWarning: Columns (3,25,26,35,36) have mixed types.Specify dtype option on import or set low_memory=False.\n",
      "  has_raised = await self.run_ast_nodes(code_ast.body, cell_name,\n"
     ]
    }
   ],
   "source": [
    "accident = pd.read_csv('ACCIDENT.csv')\n",
    "vehicle = pd.read_csv('VEHICLE.csv')\n",
    "node = pd.read_csv('NODE.csv')"
   ]
  },
  {
   "cell_type": "code",
   "execution_count": 31,
   "metadata": {},
   "outputs": [],
   "source": [
    "result = pd.merge(accident, vehicle, on='ACCIDENT_NO')\n",
    "result = pd.merge(result, node, on='ACCIDENT_NO')"
   ]
  },
  {
   "cell_type": "code",
   "execution_count": 38,
   "metadata": {},
   "outputs": [],
   "source": [
    "result['location'] = list(zip(result.Lat, result.Long))"
   ]
  },
  {
   "cell_type": "code",
   "execution_count": 56,
   "metadata": {},
   "outputs": [],
   "source": [
    "result_1 = result[['Vehicle Type Desc', 'LGA_NAME','location']]"
   ]
  },
  {
   "cell_type": "code",
   "execution_count": 57,
   "metadata": {},
   "outputs": [],
   "source": [
    "result_1 = result_1[result_1['Vehicle Type Desc'] == 'Bicycle']"
   ]
  },
  {
   "cell_type": "code",
   "execution_count": 58,
   "metadata": {},
   "outputs": [
    {
     "data": {
      "text/html": [
       "<div>\n",
       "<style scoped>\n",
       "    .dataframe tbody tr th:only-of-type {\n",
       "        vertical-align: middle;\n",
       "    }\n",
       "\n",
       "    .dataframe tbody tr th {\n",
       "        vertical-align: top;\n",
       "    }\n",
       "\n",
       "    .dataframe thead th {\n",
       "        text-align: right;\n",
       "    }\n",
       "</style>\n",
       "<table border=\"1\" class=\"dataframe\">\n",
       "  <thead>\n",
       "    <tr style=\"text-align: right;\">\n",
       "      <th></th>\n",
       "      <th>Vehicle Type Desc</th>\n",
       "      <th>LGA_NAME</th>\n",
       "      <th>location</th>\n",
       "    </tr>\n",
       "  </thead>\n",
       "  <tbody>\n",
       "    <tr>\n",
       "      <th>60</th>\n",
       "      <td>Bicycle</td>\n",
       "      <td>CASEY</td>\n",
       "      <td>(-38.03874353, 145.304741)</td>\n",
       "    </tr>\n",
       "    <tr>\n",
       "      <th>62</th>\n",
       "      <td>Bicycle</td>\n",
       "      <td>GEELONG</td>\n",
       "      <td>(-38.26119325, 144.5348379)</td>\n",
       "    </tr>\n",
       "    <tr>\n",
       "      <th>66</th>\n",
       "      <td>Bicycle</td>\n",
       "      <td>EAST GIPPSLAND</td>\n",
       "      <td>(-37.86471848, 148.0221583)</td>\n",
       "    </tr>\n",
       "    <tr>\n",
       "      <th>88</th>\n",
       "      <td>Bicycle</td>\n",
       "      <td>FRANKSTON</td>\n",
       "      <td>(-38.12311703, 145.1420018)</td>\n",
       "    </tr>\n",
       "    <tr>\n",
       "      <th>89</th>\n",
       "      <td>Bicycle</td>\n",
       "      <td>FRANKSTON</td>\n",
       "      <td>(-38.12311703, 145.1420018)</td>\n",
       "    </tr>\n",
       "  </tbody>\n",
       "</table>\n",
       "</div>"
      ],
      "text/plain": [
       "   Vehicle Type Desc        LGA_NAME                     location\n",
       "60           Bicycle           CASEY   (-38.03874353, 145.304741)\n",
       "62           Bicycle         GEELONG  (-38.26119325, 144.5348379)\n",
       "66           Bicycle  EAST GIPPSLAND  (-37.86471848, 148.0221583)\n",
       "88           Bicycle       FRANKSTON  (-38.12311703, 145.1420018)\n",
       "89           Bicycle       FRANKSTON  (-38.12311703, 145.1420018)"
      ]
     },
     "execution_count": 58,
     "metadata": {},
     "output_type": "execute_result"
    }
   ],
   "source": [
    "result_1.head()"
   ]
  },
  {
   "cell_type": "code",
   "execution_count": 59,
   "metadata": {},
   "outputs": [
    {
     "data": {
      "text/html": [
       "<div>\n",
       "<style scoped>\n",
       "    .dataframe tbody tr th:only-of-type {\n",
       "        vertical-align: middle;\n",
       "    }\n",
       "\n",
       "    .dataframe tbody tr th {\n",
       "        vertical-align: top;\n",
       "    }\n",
       "\n",
       "    .dataframe thead th {\n",
       "        text-align: right;\n",
       "    }\n",
       "</style>\n",
       "<table border=\"1\" class=\"dataframe\">\n",
       "  <thead>\n",
       "    <tr style=\"text-align: right;\">\n",
       "      <th></th>\n",
       "      <th>LGA_NAME</th>\n",
       "      <th>location</th>\n",
       "    </tr>\n",
       "  </thead>\n",
       "  <tbody>\n",
       "    <tr>\n",
       "      <th>0</th>\n",
       "      <td></td>\n",
       "      <td>[(-37.79743801, 144.9580087), (-37.82824738, 1...</td>\n",
       "    </tr>\n",
       "    <tr>\n",
       "      <th>1</th>\n",
       "      <td>(FALLS CREEK)</td>\n",
       "      <td>[(-36.87115987, 147.286222), (-36.87115987, 14...</td>\n",
       "    </tr>\n",
       "    <tr>\n",
       "      <th>2</th>\n",
       "      <td>(MOUNT BULLER)</td>\n",
       "      <td>[(-37.14512879, 146.4517996), (-37.11033607, 1...</td>\n",
       "    </tr>\n",
       "    <tr>\n",
       "      <th>3</th>\n",
       "      <td>ALPINE</td>\n",
       "      <td>[(-36.56788974, 146.7172896), (-36.74388243, 1...</td>\n",
       "    </tr>\n",
       "    <tr>\n",
       "      <th>4</th>\n",
       "      <td>ARARAT</td>\n",
       "      <td>[(-37.28472886, 142.9255626), (-37.28405993, 1...</td>\n",
       "    </tr>\n",
       "    <tr>\n",
       "      <th>...</th>\n",
       "      <td>...</td>\n",
       "      <td>...</td>\n",
       "    </tr>\n",
       "    <tr>\n",
       "      <th>77</th>\n",
       "      <td>WODONGA</td>\n",
       "      <td>[(-36.11926906, 146.8800616), (-36.12363861, 1...</td>\n",
       "    </tr>\n",
       "    <tr>\n",
       "      <th>78</th>\n",
       "      <td>WYNDHAM</td>\n",
       "      <td>[(-37.90240273, 144.6594024), (-37.878929, 144...</td>\n",
       "    </tr>\n",
       "    <tr>\n",
       "      <th>79</th>\n",
       "      <td>YARRA</td>\n",
       "      <td>[(-37.81858459, 144.99938), (-37.80575168, 144...</td>\n",
       "    </tr>\n",
       "    <tr>\n",
       "      <th>80</th>\n",
       "      <td>YARRA RANGES</td>\n",
       "      <td>[(-37.91497545, 145.3730701), (-37.81792014, 1...</td>\n",
       "    </tr>\n",
       "    <tr>\n",
       "      <th>81</th>\n",
       "      <td>YARRIAMBIACK</td>\n",
       "      <td>[(-36.25324272, 142.39772), (-36.25639, 142.39...</td>\n",
       "    </tr>\n",
       "  </tbody>\n",
       "</table>\n",
       "<p>82 rows × 2 columns</p>\n",
       "</div>"
      ],
      "text/plain": [
       "          LGA_NAME                                           location\n",
       "0                   [(-37.79743801, 144.9580087), (-37.82824738, 1...\n",
       "1    (FALLS CREEK)  [(-36.87115987, 147.286222), (-36.87115987, 14...\n",
       "2   (MOUNT BULLER)  [(-37.14512879, 146.4517996), (-37.11033607, 1...\n",
       "3           ALPINE  [(-36.56788974, 146.7172896), (-36.74388243, 1...\n",
       "4           ARARAT  [(-37.28472886, 142.9255626), (-37.28405993, 1...\n",
       "..             ...                                                ...\n",
       "77         WODONGA  [(-36.11926906, 146.8800616), (-36.12363861, 1...\n",
       "78         WYNDHAM  [(-37.90240273, 144.6594024), (-37.878929, 144...\n",
       "79           YARRA  [(-37.81858459, 144.99938), (-37.80575168, 144...\n",
       "80    YARRA RANGES  [(-37.91497545, 145.3730701), (-37.81792014, 1...\n",
       "81    YARRIAMBIACK  [(-36.25324272, 142.39772), (-36.25639, 142.39...\n",
       "\n",
       "[82 rows x 2 columns]"
      ]
     },
     "execution_count": 59,
     "metadata": {},
     "output_type": "execute_result"
    }
   ],
   "source": [
    "result_1.groupby(by = 'LGA_NAME')['location'].apply(list).reset_index()"
   ]
  },
  {
   "cell_type": "code",
   "execution_count": null,
   "metadata": {},
   "outputs": [],
   "source": []
  }
 ],
 "metadata": {
  "kernelspec": {
   "display_name": "Python 3",
   "language": "python",
   "name": "python3"
  },
  "language_info": {
   "codemirror_mode": {
    "name": "ipython",
    "version": 3
   },
   "file_extension": ".py",
   "mimetype": "text/x-python",
   "name": "python",
   "nbconvert_exporter": "python",
   "pygments_lexer": "ipython3",
   "version": "3.8.3"
  }
 },
 "nbformat": 4,
 "nbformat_minor": 4
}
