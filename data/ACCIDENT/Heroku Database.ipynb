{
 "cells": [
  {
   "cell_type": "markdown",
   "metadata": {},
   "source": [
    "#### Heroku Database Dataloading\n",
    "\n",
    "This script is the code used for loading our open data sources into our Heroku cloud database. \n",
    "Initially, we planned to load all data sources into the cloud and wrangle our data via SQL, in the spirit of utilising a relational database. However, due to database constraints (10k row max), for iteration 1 the cleaning and wrangling has predominantly taken place using python pandas before it has been loaded to the database as the final table for our intended function (iteration 1 - user story 1.3). \n",
    "\n",
    "Moving into future iterations we may explore other options that have fewer constraints and allow us to load more data and tables. "
   ]
  },
  {
   "cell_type": "markdown",
   "metadata": {},
   "source": [
    "#### Import Libraries\n",
    "\n",
    "- Psycopg2: for database connection\n",
    "- Pandas: for data cleaning/wrangling\n",
    "- SQLAlchemy: for sql usage with database"
   ]
  },
  {
   "cell_type": "code",
   "execution_count": 2,
   "metadata": {},
   "outputs": [],
   "source": [
    "import psycopg2\n",
    "import pandas as pd\n",
    "\n",
    "from sqlalchemy import create_engine\n",
    "from sqlalchemy import inspect"
   ]
  },
  {
   "cell_type": "markdown",
   "metadata": {},
   "source": [
    "#### Connection to database\n",
    "\n",
    "Have removed this code block for now, to keep connection confidential"
   ]
  },
  {
   "cell_type": "code",
   "execution_count": 2,
   "metadata": {},
   "outputs": [],
   "source": [
    "# create engine, connection to database\n",
    "engine = create_engine(#connection url)"
   ]
  },
  {
   "cell_type": "markdown",
   "metadata": {},
   "source": [
    "#### Import Data\n",
    "\n",
    "Import open data sources (supplied from VicRoads/Department of Transport via CSVs)\n",
    "The data is nearly 20 years worth of police reported Victorian road crashes, the data is at an accident level. \n",
    "Accident table describes main details of the accident, the node detailing the precise location and the vehicle table providing detailed information on vehicles involved in their respective accidents."
   ]
  },
  {
   "cell_type": "code",
   "execution_count": 7,
   "metadata": {},
   "outputs": [],
   "source": [
    "# low memory = False due to mixed dtype in some of the open data sources\n",
    "\n",
    "vehicles = pd.read_csv(\"VEHICLE.csv\", low_memory = False)\n",
    "accident = pd.read_csv(\"ACCIDENT.csv\", low_memory = False)\n",
    "node = pd.read_csv(\"NODE.csv\")"
   ]
  },
  {
   "cell_type": "markdown",
   "metadata": {},
   "source": [
    "##### Clean up datasets\n",
    "\n",
    "Began cleaning/wrangling our datasets, started with vehicles as currently we have all traffic accidents and are only interested in bicycle related accidents, the vehicle table will help us filter done to bicycle only. "
   ]
  },
  {
   "cell_type": "code",
   "execution_count": 5,
   "metadata": {},
   "outputs": [
    {
     "data": {
      "text/html": [
       "<div>\n",
       "<style scoped>\n",
       "    .dataframe tbody tr th:only-of-type {\n",
       "        vertical-align: middle;\n",
       "    }\n",
       "\n",
       "    .dataframe tbody tr th {\n",
       "        vertical-align: top;\n",
       "    }\n",
       "\n",
       "    .dataframe thead th {\n",
       "        text-align: right;\n",
       "    }\n",
       "</style>\n",
       "<table border=\"1\" class=\"dataframe\">\n",
       "  <thead>\n",
       "    <tr style=\"text-align: right;\">\n",
       "      <th></th>\n",
       "      <th>ACCIDENT_NO</th>\n",
       "      <th>VEHICLE_ID</th>\n",
       "      <th>VEHICLE_YEAR_MANUF</th>\n",
       "      <th>VEHICLE_DCA_CODE</th>\n",
       "      <th>INITIAL_DIRECTION</th>\n",
       "      <th>ROAD_SURFACE_TYPE</th>\n",
       "      <th>Road Surface Type Desc</th>\n",
       "      <th>REG_STATE</th>\n",
       "      <th>VEHICLE_BODY_STYLE</th>\n",
       "      <th>VEHICLE_MAKE</th>\n",
       "      <th>...</th>\n",
       "      <th>VEHICLE_COLOUR_1</th>\n",
       "      <th>VEHICLE_COLOUR_2</th>\n",
       "      <th>CAUGHT_FIRE</th>\n",
       "      <th>INITIAL_IMPACT</th>\n",
       "      <th>LAMPS</th>\n",
       "      <th>LEVEL_OF_DAMAGE</th>\n",
       "      <th>OWNER_POSTCODE</th>\n",
       "      <th>TOWED_AWAY_FLAG</th>\n",
       "      <th>TRAFFIC_CONTROL</th>\n",
       "      <th>Traffic Control Desc</th>\n",
       "    </tr>\n",
       "  </thead>\n",
       "  <tbody>\n",
       "    <tr>\n",
       "      <td>0</td>\n",
       "      <td>T20060000010</td>\n",
       "      <td>A</td>\n",
       "      <td>1996.0</td>\n",
       "      <td>2</td>\n",
       "      <td>SW</td>\n",
       "      <td>1</td>\n",
       "      <td>Paved</td>\n",
       "      <td>V</td>\n",
       "      <td>SEDAN</td>\n",
       "      <td>MITSUB</td>\n",
       "      <td>...</td>\n",
       "      <td>MRN</td>\n",
       "      <td>ZZ</td>\n",
       "      <td>2</td>\n",
       "      <td>F</td>\n",
       "      <td>2</td>\n",
       "      <td>3</td>\n",
       "      <td>3130.0</td>\n",
       "      <td>1</td>\n",
       "      <td>1</td>\n",
       "      <td>Stop-go lights</td>\n",
       "    </tr>\n",
       "    <tr>\n",
       "      <td>1</td>\n",
       "      <td>T20060000010</td>\n",
       "      <td>B</td>\n",
       "      <td>2003.0</td>\n",
       "      <td>1</td>\n",
       "      <td>NW</td>\n",
       "      <td>1</td>\n",
       "      <td>Paved</td>\n",
       "      <td>V</td>\n",
       "      <td>COUPE</td>\n",
       "      <td>UNKN</td>\n",
       "      <td>...</td>\n",
       "      <td>BLU</td>\n",
       "      <td>ZZ</td>\n",
       "      <td>2</td>\n",
       "      <td>2</td>\n",
       "      <td>2</td>\n",
       "      <td>3</td>\n",
       "      <td>3977.0</td>\n",
       "      <td>1</td>\n",
       "      <td>1</td>\n",
       "      <td>Stop-go lights</td>\n",
       "    </tr>\n",
       "    <tr>\n",
       "      <td>2</td>\n",
       "      <td>T20060000010</td>\n",
       "      <td>C</td>\n",
       "      <td>2001.0</td>\n",
       "      <td>8</td>\n",
       "      <td>NW</td>\n",
       "      <td>1</td>\n",
       "      <td>Paved</td>\n",
       "      <td>V</td>\n",
       "      <td>SEDAN</td>\n",
       "      <td>FORD</td>\n",
       "      <td>...</td>\n",
       "      <td>YLW</td>\n",
       "      <td>ZZ</td>\n",
       "      <td>2</td>\n",
       "      <td>F</td>\n",
       "      <td>2</td>\n",
       "      <td>2</td>\n",
       "      <td>3804.0</td>\n",
       "      <td>2</td>\n",
       "      <td>1</td>\n",
       "      <td>Stop-go lights</td>\n",
       "    </tr>\n",
       "    <tr>\n",
       "      <td>3</td>\n",
       "      <td>T20060000018</td>\n",
       "      <td>A</td>\n",
       "      <td>1998.0</td>\n",
       "      <td>2</td>\n",
       "      <td>S</td>\n",
       "      <td>1</td>\n",
       "      <td>Paved</td>\n",
       "      <td>V</td>\n",
       "      <td>DC UTE</td>\n",
       "      <td>TOYOTA</td>\n",
       "      <td>...</td>\n",
       "      <td>GRY</td>\n",
       "      <td>ZZ</td>\n",
       "      <td>2</td>\n",
       "      <td>9</td>\n",
       "      <td>0</td>\n",
       "      <td>3</td>\n",
       "      <td>3175.0</td>\n",
       "      <td>1</td>\n",
       "      <td>0</td>\n",
       "      <td>No control</td>\n",
       "    </tr>\n",
       "    <tr>\n",
       "      <td>4</td>\n",
       "      <td>T20060000018</td>\n",
       "      <td>B</td>\n",
       "      <td>1991.0</td>\n",
       "      <td>1</td>\n",
       "      <td>N</td>\n",
       "      <td>1</td>\n",
       "      <td>Paved</td>\n",
       "      <td>V</td>\n",
       "      <td>SEDAN</td>\n",
       "      <td>SUBARU</td>\n",
       "      <td>...</td>\n",
       "      <td>BLU</td>\n",
       "      <td>ZZ</td>\n",
       "      <td>2</td>\n",
       "      <td>F</td>\n",
       "      <td>0</td>\n",
       "      <td>5</td>\n",
       "      <td>3805.0</td>\n",
       "      <td>1</td>\n",
       "      <td>11</td>\n",
       "      <td>Giveway sign</td>\n",
       "    </tr>\n",
       "  </tbody>\n",
       "</table>\n",
       "<p>5 rows × 38 columns</p>\n",
       "</div>"
      ],
      "text/plain": [
       "    ACCIDENT_NO VEHICLE_ID  VEHICLE_YEAR_MANUF VEHICLE_DCA_CODE  \\\n",
       "0  T20060000010          A              1996.0                2   \n",
       "1  T20060000010          B              2003.0                1   \n",
       "2  T20060000010          C              2001.0                8   \n",
       "3  T20060000018          A              1998.0                2   \n",
       "4  T20060000018          B              1991.0                1   \n",
       "\n",
       "  INITIAL_DIRECTION  ROAD_SURFACE_TYPE Road Surface Type Desc REG_STATE  \\\n",
       "0                SW                  1                  Paved         V   \n",
       "1                NW                  1                  Paved         V   \n",
       "2                NW                  1                  Paved         V   \n",
       "3                S                   1                  Paved         V   \n",
       "4                N                   1                  Paved         V   \n",
       "\n",
       "  VEHICLE_BODY_STYLE VEHICLE_MAKE  ... VEHICLE_COLOUR_1  VEHICLE_COLOUR_2  \\\n",
       "0             SEDAN        MITSUB  ...              MRN               ZZ    \n",
       "1             COUPE        UNKN    ...              BLU               ZZ    \n",
       "2             SEDAN        FORD    ...              YLW               ZZ    \n",
       "3             DC UTE       TOYOTA  ...              GRY               ZZ    \n",
       "4             SEDAN        SUBARU  ...              BLU               ZZ    \n",
       "\n",
       "   CAUGHT_FIRE INITIAL_IMPACT  LAMPS LEVEL_OF_DAMAGE OWNER_POSTCODE  \\\n",
       "0            2              F      2               3         3130.0   \n",
       "1            2              2      2               3         3977.0   \n",
       "2            2              F      2               2         3804.0   \n",
       "3            2              9      0               3         3175.0   \n",
       "4            2              F      0               5         3805.0   \n",
       "\n",
       "   TOWED_AWAY_FLAG  TRAFFIC_CONTROL  Traffic Control Desc  \n",
       "0                1                1        Stop-go lights  \n",
       "1                1                1        Stop-go lights  \n",
       "2                2                1        Stop-go lights  \n",
       "3                1                0            No control  \n",
       "4                1               11          Giveway sign  \n",
       "\n",
       "[5 rows x 38 columns]"
      ]
     },
     "execution_count": 5,
     "metadata": {},
     "output_type": "execute_result"
    }
   ],
   "source": [
    "vehicles.head()"
   ]
  },
  {
   "cell_type": "code",
   "execution_count": 4,
   "metadata": {},
   "outputs": [
    {
     "data": {
      "text/plain": [
       "Index(['ACCIDENT_NO', 'VEHICLE_ID', 'VEHICLE_YEAR_MANUF', 'VEHICLE_DCA_CODE',\n",
       "       'INITIAL_DIRECTION', 'ROAD_SURFACE_TYPE', 'Road Surface Type Desc',\n",
       "       'REG_STATE', 'VEHICLE_BODY_STYLE', 'VEHICLE_MAKE', 'VEHICLE_MODEL',\n",
       "       'VEHICLE_POWER', 'VEHICLE_TYPE', 'Vehicle Type Desc', 'VEHICLE_WEIGHT',\n",
       "       'CONSTRUCTION_TYPE', 'FUEL_TYPE', 'NO_OF_WHEELS', 'NO_OF_CYLINDERS',\n",
       "       'SEATING_CAPACITY', 'TARE_WEIGHT', 'TOTAL_NO_OCCUPANTS',\n",
       "       'CARRY_CAPACITY', 'CUBIC_CAPACITY', 'FINAL_DIRECTION', 'DRIVER_INTENT',\n",
       "       'VEHICLE_MOVEMENT', 'TRAILER_TYPE', 'VEHICLE_COLOUR_1',\n",
       "       'VEHICLE_COLOUR_2', 'CAUGHT_FIRE', 'INITIAL_IMPACT', 'LAMPS',\n",
       "       'LEVEL_OF_DAMAGE', 'OWNER_POSTCODE', 'TOWED_AWAY_FLAG',\n",
       "       'TRAFFIC_CONTROL', 'Traffic Control Desc'],\n",
       "      dtype='object')"
      ]
     },
     "execution_count": 4,
     "metadata": {},
     "output_type": "execute_result"
    }
   ],
   "source": [
    "# review necessary columns\n",
    "vehicles.columns"
   ]
  },
  {
   "cell_type": "code",
   "execution_count": 8,
   "metadata": {},
   "outputs": [],
   "source": [
    "# Filter and cut the vehicles data\n",
    "# only interested in bikes, and more interested in accidents rather than actual bike so only taking 3 fields\n",
    "vehicles = vehicles[vehicles['Vehicle Type Desc'] == 'Bicycle']\n",
    "vehicles = vehicles[['ACCIDENT_NO', 'VEHICLE_ID', 'Vehicle Type Desc']]"
   ]
  },
  {
   "cell_type": "code",
   "execution_count": 13,
   "metadata": {},
   "outputs": [
    {
     "data": {
      "text/plain": [
       "(20994, 3)"
      ]
     },
     "execution_count": 13,
     "metadata": {},
     "output_type": "execute_result"
    }
   ],
   "source": [
    "vehicles.shape"
   ]
  },
  {
   "cell_type": "code",
   "execution_count": 9,
   "metadata": {},
   "outputs": [
    {
     "data": {
      "text/plain": [
       "Index(['ACCIDENT_NO', 'ACCIDENTDATE', 'ACCIDENTTIME', 'ACCIDENT_TYPE',\n",
       "       'Accident Type Desc', 'DAY_OF_WEEK', 'Day Week Description', 'DCA_CODE',\n",
       "       'DCA Description', 'DIRECTORY', 'EDITION', 'PAGE', 'GRID_REFERENCE_X',\n",
       "       'GRID_REFERENCE_Y', 'LIGHT_CONDITION', 'Light Condition Desc',\n",
       "       'NODE_ID', 'NO_OF_VEHICLES', 'NO_PERSONS', 'NO_PERSONS_INJ_2',\n",
       "       'NO_PERSONS_INJ_3', 'NO_PERSONS_KILLED', 'NO_PERSONS_NOT_INJ',\n",
       "       'POLICE_ATTEND', 'ROAD_GEOMETRY', 'Road Geometry Desc', 'SEVERITY',\n",
       "       'SPEED_ZONE'],\n",
       "      dtype='object')"
      ]
     },
     "execution_count": 9,
     "metadata": {},
     "output_type": "execute_result"
    }
   ],
   "source": [
    "# similar preparation for accidents\n",
    "accident.columns"
   ]
  },
  {
   "cell_type": "code",
   "execution_count": 10,
   "metadata": {},
   "outputs": [],
   "source": [
    "accident = accident[['ACCIDENT_NO', 'ACCIDENTDATE', 'ACCIDENTTIME', 'Accident Type Desc'\n",
    "                    , 'Day Week Description', 'NODE_ID', 'SEVERITY', 'SPEED_ZONE']]"
   ]
  },
  {
   "cell_type": "code",
   "execution_count": 11,
   "metadata": {},
   "outputs": [
    {
     "data": {
      "text/plain": [
       "ACCIDENT_NO             object\n",
       "ACCIDENTDATE            object\n",
       "ACCIDENTTIME            object\n",
       "Accident Type Desc      object\n",
       "Day Week Description    object\n",
       "NODE_ID                  int64\n",
       "SEVERITY                 int64\n",
       "SPEED_ZONE               int64\n",
       "dtype: object"
      ]
     },
     "execution_count": 11,
     "metadata": {},
     "output_type": "execute_result"
    }
   ],
   "source": [
    "#evaluate dtypes\n",
    "accident.dtypes"
   ]
  },
  {
   "cell_type": "code",
   "execution_count": 14,
   "metadata": {},
   "outputs": [],
   "source": [
    "accident['ACCIDENTDATE'] = pd.to_datetime(accident['ACCIDENTDATE'], format = '%d/%m/%Y')"
   ]
  },
  {
   "cell_type": "code",
   "execution_count": 15,
   "metadata": {},
   "outputs": [],
   "source": [
    "# due to database constraints (10k) and bike accidents ~21k, will filter down by most recent years\n",
    "# create year column for filtering\n",
    "accident['Year'] = accident['ACCIDENTDATE'].dt.year"
   ]
  },
  {
   "cell_type": "code",
   "execution_count": 16,
   "metadata": {},
   "outputs": [
    {
     "data": {
      "text/plain": [
       "2016    15852\n",
       "2015    15748\n",
       "2014    14475\n",
       "2019    14164\n",
       "2008    14128\n",
       "2011    14091\n",
       "2013    14009\n",
       "2012    13913\n",
       "2007    13854\n",
       "2009    13851\n",
       "2006    13697\n",
       "2010    13676\n",
       "2017    13393\n",
       "2018    12797\n",
       "2020     6060\n",
       "Name: Year, dtype: int64"
      ]
     },
     "execution_count": 16,
     "metadata": {},
     "output_type": "execute_result"
    }
   ],
   "source": [
    "accident['Year'].value_counts()"
   ]
  },
  {
   "cell_type": "code",
   "execution_count": 17,
   "metadata": {},
   "outputs": [],
   "source": [
    "# create temporary df that combines accident data with bicycle data \n",
    "# essentially filtering accidents to bike accidents, hence using inner join \n",
    "temp = accident.merge(vehicles, on='ACCIDENT_NO', how='inner')"
   ]
  },
  {
   "cell_type": "code",
   "execution_count": 18,
   "metadata": {},
   "outputs": [
    {
     "data": {
      "text/plain": [
       "(20994, 11)"
      ]
     },
     "execution_count": 18,
     "metadata": {},
     "output_type": "execute_result"
    }
   ],
   "source": [
    "temp.shape"
   ]
  },
  {
   "cell_type": "code",
   "execution_count": 19,
   "metadata": {},
   "outputs": [
    {
     "data": {
      "text/plain": [
       "20450"
      ]
     },
     "execution_count": 19,
     "metadata": {},
     "output_type": "execute_result"
    }
   ],
   "source": [
    "# check unique accident nos, 1 accident can have mulitple vehicles or in our case multiple bicycles\n",
    "# hence expect this to be slightly lower \n",
    "\n",
    "temp['ACCIDENT_NO'].nunique()"
   ]
  },
  {
   "cell_type": "code",
   "execution_count": 20,
   "metadata": {},
   "outputs": [
    {
     "data": {
      "text/plain": [
       "2014    1626\n",
       "2015    1606\n",
       "2011    1586\n",
       "2013    1572\n",
       "2010    1500\n",
       "2009    1496\n",
       "2016    1441\n",
       "2012    1439\n",
       "2008    1388\n",
       "2019    1381\n",
       "2017    1370\n",
       "2007    1319\n",
       "2018    1302\n",
       "2006    1267\n",
       "2020     701\n",
       "Name: Year, dtype: int64"
      ]
     },
     "execution_count": 20,
     "metadata": {},
     "output_type": "execute_result"
    }
   ],
   "source": [
    "temp['Year'].value_counts()"
   ]
  },
  {
   "cell_type": "code",
   "execution_count": 21,
   "metadata": {},
   "outputs": [],
   "source": [
    "# Around 1.5k per year, will use 2015 onwards to meet db constraints but still maintain relevant data \n",
    "temp = temp[temp['Year'] >= 2015]"
   ]
  },
  {
   "cell_type": "code",
   "execution_count": 22,
   "metadata": {},
   "outputs": [
    {
     "data": {
      "text/plain": [
       "(7801, 11)"
      ]
     },
     "execution_count": 22,
     "metadata": {},
     "output_type": "execute_result"
    }
   ],
   "source": [
    "temp.shape"
   ]
  },
  {
   "cell_type": "code",
   "execution_count": 23,
   "metadata": {},
   "outputs": [
    {
     "data": {
      "text/plain": [
       "(221797, 12)"
      ]
     },
     "execution_count": 23,
     "metadata": {},
     "output_type": "execute_result"
    }
   ],
   "source": [
    "node.shape"
   ]
  },
  {
   "cell_type": "code",
   "execution_count": null,
   "metadata": {},
   "outputs": [],
   "source": [
    "# append geo-coordinates to data \n",
    "# this will be the data loaded into database for iteration 1\n",
    "\n",
    "# left join here, all accidents should have a location, but if unknown still want accident details\n",
    "\n",
    "final = temp.merge(node, on='ACCIDENT_NO', how = 'left')"
   ]
  },
  {
   "cell_type": "code",
   "execution_count": null,
   "metadata": {},
   "outputs": [],
   "source": [
    "final.head()"
   ]
  },
  {
   "cell_type": "code",
   "execution_count": null,
   "metadata": {},
   "outputs": [],
   "source": [
    "final.columns"
   ]
  },
  {
   "cell_type": "code",
   "execution_count": null,
   "metadata": {},
   "outputs": [],
   "source": [
    "# final filter \n",
    "\n",
    "final = final[['ACCIDENT_NO', 'ACCIDENTDATE', 'ACCIDENTTIME', 'Accident Type Desc',\n",
    "       'Day Week Description', 'NODE_ID_x', 'SEVERITY', 'SPEED_ZONE', 'Year',\n",
    "       'VEHICLE_ID', 'Vehicle Type Desc','LGA_NAME', 'LGA_NAME_ALL', 'REGION_NAME',\n",
    "       'Lat', 'Long', 'POSTCODE_NO']]"
   ]
  },
  {
   "cell_type": "code",
   "execution_count": null,
   "metadata": {},
   "outputs": [],
   "source": [
    "final.dtypes"
   ]
  },
  {
   "cell_type": "code",
   "execution_count": null,
   "metadata": {},
   "outputs": [],
   "source": [
    "final.head()"
   ]
  },
  {
   "cell_type": "code",
   "execution_count": null,
   "metadata": {},
   "outputs": [],
   "source": [
    "# Load df to database as table 'accidents'\n",
    "\n",
    "# Suvansh said got notified at 6am, I kicked this off at 11pm, hopefully doesn't take this long normally \n",
    "\n",
    "final.to_sql('accidents', con = engine, if_exists='append')"
   ]
  },
  {
   "cell_type": "code",
   "execution_count": 12,
   "metadata": {},
   "outputs": [
    {
     "name": "stdout",
     "output_type": "stream",
     "text": [
      "[(0, 'T20150000067', datetime.datetime(2015, 1, 1, 0, 0), '18:10:00                      ', 'Collision with vehicle', 'Thursday', 280320, 3, 777, 2015, 'A', 'Bicycle', 'GEELONG', 'GEELONG', 'SOUTH WESTERN REGION', -38.11077182, 144.6419289, 3223.0), (1, 'T20150000093', datetime.datetime(2015, 1, 2, 0, 0), '12:05:00                      ', 'No collision and no object struck', 'Friday', 36940, 3, 60, 2015, 'A', 'Bicycle', 'MELBOURNE', 'MELBOURNE', 'METROPOLITAN NORTH WEST REGION', -37.81254531, 144.9651824, 3000.0), (2, 'T20150000096', datetime.datetime(2015, 1, 2, 0, 0), '16:55:00                      ', 'Collision with vehicle', 'Friday', 281773, 3, 60, 2015, 'A', 'Bicycle', 'MELBOURNE', 'MELBOURNE,PORT PHILLIP', 'METROPOLITAN NORTH WEST REGION', -37.84314893, 144.97806469999998, 3004.0), (3, 'T20150000156', datetime.datetime(2015, 1, 2, 0, 0), '21:00:00                      ', 'Vehicle overturned (no collision)', 'Friday', 280598, 3, 60, 2015, 'A', 'Bicycle', 'WHITEHORSE', 'WHITEHORSE', 'METROPOLITAN SOUTH EAST REGION', -37.81550739, 145.1034205, 3127.0), (4, 'T20150000184', datetime.datetime(2015, 1, 4, 0, 0), '09:25:00                      ', 'Collision with vehicle', 'Sunday', 280359, 2, 60, 2015, 'B', 'Bicycle', 'NILLUMBIK', 'NILLUMBIK', 'METROPOLITAN NORTH WEST REGION', -37.71679679, 145.1468131, 3095.0)]\n"
     ]
    }
   ],
   "source": [
    "# Quick test \n",
    "\n",
    "print(engine.execute(\n",
    "    \"\"\"\n",
    "    SELECT *\n",
    "    FROM\n",
    "        accidents\n",
    "    LIMIT 5;\n",
    "    \"\"\").fetchall())\n"
   ]
  },
  {
   "cell_type": "code",
   "execution_count": 11,
   "metadata": {},
   "outputs": [
    {
     "data": {
      "text/plain": [
       "[{'name': 'index',\n",
       "  'type': BIGINT(),\n",
       "  'nullable': True,\n",
       "  'default': None,\n",
       "  'autoincrement': False,\n",
       "  'comment': None},\n",
       " {'name': 'ACCIDENT_NO',\n",
       "  'type': TEXT(),\n",
       "  'nullable': True,\n",
       "  'default': None,\n",
       "  'autoincrement': False,\n",
       "  'comment': None},\n",
       " {'name': 'ACCIDENTDATE',\n",
       "  'type': TIMESTAMP(),\n",
       "  'nullable': True,\n",
       "  'default': None,\n",
       "  'autoincrement': False,\n",
       "  'comment': None},\n",
       " {'name': 'ACCIDENTTIME',\n",
       "  'type': TEXT(),\n",
       "  'nullable': True,\n",
       "  'default': None,\n",
       "  'autoincrement': False,\n",
       "  'comment': None},\n",
       " {'name': 'Accident Type Desc',\n",
       "  'type': TEXT(),\n",
       "  'nullable': True,\n",
       "  'default': None,\n",
       "  'autoincrement': False,\n",
       "  'comment': None},\n",
       " {'name': 'Day Week Description',\n",
       "  'type': TEXT(),\n",
       "  'nullable': True,\n",
       "  'default': None,\n",
       "  'autoincrement': False,\n",
       "  'comment': None},\n",
       " {'name': 'NODE_ID_x',\n",
       "  'type': BIGINT(),\n",
       "  'nullable': True,\n",
       "  'default': None,\n",
       "  'autoincrement': False,\n",
       "  'comment': None},\n",
       " {'name': 'SEVERITY',\n",
       "  'type': BIGINT(),\n",
       "  'nullable': True,\n",
       "  'default': None,\n",
       "  'autoincrement': False,\n",
       "  'comment': None},\n",
       " {'name': 'SPEED_ZONE',\n",
       "  'type': BIGINT(),\n",
       "  'nullable': True,\n",
       "  'default': None,\n",
       "  'autoincrement': False,\n",
       "  'comment': None},\n",
       " {'name': 'Year',\n",
       "  'type': BIGINT(),\n",
       "  'nullable': True,\n",
       "  'default': None,\n",
       "  'autoincrement': False,\n",
       "  'comment': None},\n",
       " {'name': 'VEHICLE_ID',\n",
       "  'type': TEXT(),\n",
       "  'nullable': True,\n",
       "  'default': None,\n",
       "  'autoincrement': False,\n",
       "  'comment': None},\n",
       " {'name': 'Vehicle Type Desc',\n",
       "  'type': TEXT(),\n",
       "  'nullable': True,\n",
       "  'default': None,\n",
       "  'autoincrement': False,\n",
       "  'comment': None},\n",
       " {'name': 'LGA_NAME',\n",
       "  'type': TEXT(),\n",
       "  'nullable': True,\n",
       "  'default': None,\n",
       "  'autoincrement': False,\n",
       "  'comment': None},\n",
       " {'name': 'LGA_NAME_ALL',\n",
       "  'type': TEXT(),\n",
       "  'nullable': True,\n",
       "  'default': None,\n",
       "  'autoincrement': False,\n",
       "  'comment': None},\n",
       " {'name': 'REGION_NAME',\n",
       "  'type': TEXT(),\n",
       "  'nullable': True,\n",
       "  'default': None,\n",
       "  'autoincrement': False,\n",
       "  'comment': None},\n",
       " {'name': 'Lat',\n",
       "  'type': DOUBLE_PRECISION(precision=53),\n",
       "  'nullable': True,\n",
       "  'default': None,\n",
       "  'autoincrement': False,\n",
       "  'comment': None},\n",
       " {'name': 'Long',\n",
       "  'type': DOUBLE_PRECISION(precision=53),\n",
       "  'nullable': True,\n",
       "  'default': None,\n",
       "  'autoincrement': False,\n",
       "  'comment': None},\n",
       " {'name': 'POSTCODE_NO',\n",
       "  'type': DOUBLE_PRECISION(precision=53),\n",
       "  'nullable': True,\n",
       "  'default': None,\n",
       "  'autoincrement': False,\n",
       "  'comment': None}]"
      ]
     },
     "execution_count": 11,
     "metadata": {},
     "output_type": "execute_result"
    }
   ],
   "source": [
    "# Inspect table metadata so can produce ERD/data dictionary for others \n",
    "\n",
    "inspector = inspect(engine)\n",
    "inspector.get_columns('accidents')"
   ]
  },
  {
   "cell_type": "markdown",
   "metadata": {},
   "source": [
    "The intended application of this open data for app is to pin accident locations onto a map, however this may be too ambitious in iteration 1, if time constrained will simply show dataviz/table to convey locations of accidents. \n",
    "\n",
    "Following produces summary table by LGA (suburb) the total accidents in our database (from 2015 onwards). "
   ]
  },
  {
   "cell_type": "code",
   "execution_count": 23,
   "metadata": {
    "collapsed": true
   },
   "outputs": [
    {
     "ename": "ResourceClosedError",
     "evalue": "This result object does not return rows. It has been closed automatically.",
     "output_type": "error",
     "traceback": [
      "\u001b[0;31m---------------------------------------------------------------------------\u001b[0m",
      "\u001b[0;31mAttributeError\u001b[0m                            Traceback (most recent call last)",
      "\u001b[0;32m~/opt/anaconda3/lib/python3.7/site-packages/sqlalchemy/engine/result.py\u001b[0m in \u001b[0;36m_fetchone_impl\u001b[0;34m(self)\u001b[0m\n\u001b[1;32m   1145\u001b[0m         \u001b[0;32mtry\u001b[0m\u001b[0;34m:\u001b[0m\u001b[0;34m\u001b[0m\u001b[0;34m\u001b[0m\u001b[0m\n\u001b[0;32m-> 1146\u001b[0;31m             \u001b[0;32mreturn\u001b[0m \u001b[0mself\u001b[0m\u001b[0;34m.\u001b[0m\u001b[0mcursor\u001b[0m\u001b[0;34m.\u001b[0m\u001b[0mfetchone\u001b[0m\u001b[0;34m(\u001b[0m\u001b[0;34m)\u001b[0m\u001b[0;34m\u001b[0m\u001b[0;34m\u001b[0m\u001b[0m\n\u001b[0m\u001b[1;32m   1147\u001b[0m         \u001b[0;32mexcept\u001b[0m \u001b[0mAttributeError\u001b[0m\u001b[0;34m:\u001b[0m\u001b[0;34m\u001b[0m\u001b[0;34m\u001b[0m\u001b[0m\n",
      "\u001b[0;31mAttributeError\u001b[0m: 'NoneType' object has no attribute 'fetchone'",
      "\nDuring handling of the above exception, another exception occurred:\n",
      "\u001b[0;31mResourceClosedError\u001b[0m                       Traceback (most recent call last)",
      "\u001b[0;32m<ipython-input-23-ce8e41832183>\u001b[0m in \u001b[0;36m<module>\u001b[0;34m\u001b[0m\n\u001b[1;32m     12\u001b[0m     \"\"\")\n\u001b[1;32m     13\u001b[0m \u001b[0;34m\u001b[0m\u001b[0m\n\u001b[0;32m---> 14\u001b[0;31m     \u001b[0;32mfor\u001b[0m \u001b[0mrow\u001b[0m \u001b[0;32min\u001b[0m \u001b[0mrs\u001b[0m\u001b[0;34m:\u001b[0m\u001b[0;34m\u001b[0m\u001b[0;34m\u001b[0m\u001b[0m\n\u001b[0m\u001b[1;32m     15\u001b[0m         \u001b[0mprint\u001b[0m\u001b[0;34m(\u001b[0m\u001b[0mrow\u001b[0m\u001b[0;34m)\u001b[0m\u001b[0;34m\u001b[0m\u001b[0;34m\u001b[0m\u001b[0m\n",
      "\u001b[0;32m~/opt/anaconda3/lib/python3.7/site-packages/sqlalchemy/engine/result.py\u001b[0m in \u001b[0;36m__iter__\u001b[0;34m(self)\u001b[0m\n\u001b[1;32m    942\u001b[0m \u001b[0;34m\u001b[0m\u001b[0m\n\u001b[1;32m    943\u001b[0m         \u001b[0;32mwhile\u001b[0m \u001b[0;32mTrue\u001b[0m\u001b[0;34m:\u001b[0m\u001b[0;34m\u001b[0m\u001b[0;34m\u001b[0m\u001b[0m\n\u001b[0;32m--> 944\u001b[0;31m             \u001b[0mrow\u001b[0m \u001b[0;34m=\u001b[0m \u001b[0mself\u001b[0m\u001b[0;34m.\u001b[0m\u001b[0mfetchone\u001b[0m\u001b[0;34m(\u001b[0m\u001b[0;34m)\u001b[0m\u001b[0;34m\u001b[0m\u001b[0;34m\u001b[0m\u001b[0m\n\u001b[0m\u001b[1;32m    945\u001b[0m             \u001b[0;32mif\u001b[0m \u001b[0mrow\u001b[0m \u001b[0;32mis\u001b[0m \u001b[0;32mNone\u001b[0m\u001b[0;34m:\u001b[0m\u001b[0;34m\u001b[0m\u001b[0;34m\u001b[0m\u001b[0m\n\u001b[1;32m    946\u001b[0m                 \u001b[0;32mreturn\u001b[0m\u001b[0;34m\u001b[0m\u001b[0;34m\u001b[0m\u001b[0m\n",
      "\u001b[0;32m~/opt/anaconda3/lib/python3.7/site-packages/sqlalchemy/engine/result.py\u001b[0m in \u001b[0;36mfetchone\u001b[0;34m(self)\u001b[0m\n\u001b[1;32m   1272\u001b[0m         \u001b[0;32mexcept\u001b[0m \u001b[0mBaseException\u001b[0m \u001b[0;32mas\u001b[0m \u001b[0me\u001b[0m\u001b[0;34m:\u001b[0m\u001b[0;34m\u001b[0m\u001b[0;34m\u001b[0m\u001b[0m\n\u001b[1;32m   1273\u001b[0m             self.connection._handle_dbapi_exception(\n\u001b[0;32m-> 1274\u001b[0;31m                 \u001b[0me\u001b[0m\u001b[0;34m,\u001b[0m \u001b[0;32mNone\u001b[0m\u001b[0;34m,\u001b[0m \u001b[0;32mNone\u001b[0m\u001b[0;34m,\u001b[0m \u001b[0mself\u001b[0m\u001b[0;34m.\u001b[0m\u001b[0mcursor\u001b[0m\u001b[0;34m,\u001b[0m \u001b[0mself\u001b[0m\u001b[0;34m.\u001b[0m\u001b[0mcontext\u001b[0m\u001b[0;34m\u001b[0m\u001b[0;34m\u001b[0m\u001b[0m\n\u001b[0m\u001b[1;32m   1275\u001b[0m             )\n\u001b[1;32m   1276\u001b[0m \u001b[0;34m\u001b[0m\u001b[0m\n",
      "\u001b[0;32m~/opt/anaconda3/lib/python3.7/site-packages/sqlalchemy/engine/base.py\u001b[0m in \u001b[0;36m_handle_dbapi_exception\u001b[0;34m(self, e, statement, parameters, cursor, context)\u001b[0m\n\u001b[1;32m   1473\u001b[0m                 \u001b[0mutil\u001b[0m\u001b[0;34m.\u001b[0m\u001b[0mraise_from_cause\u001b[0m\u001b[0;34m(\u001b[0m\u001b[0msqlalchemy_exception\u001b[0m\u001b[0;34m,\u001b[0m \u001b[0mexc_info\u001b[0m\u001b[0;34m)\u001b[0m\u001b[0;34m\u001b[0m\u001b[0;34m\u001b[0m\u001b[0m\n\u001b[1;32m   1474\u001b[0m             \u001b[0;32melse\u001b[0m\u001b[0;34m:\u001b[0m\u001b[0;34m\u001b[0m\u001b[0;34m\u001b[0m\u001b[0m\n\u001b[0;32m-> 1475\u001b[0;31m                 \u001b[0mutil\u001b[0m\u001b[0;34m.\u001b[0m\u001b[0mreraise\u001b[0m\u001b[0;34m(\u001b[0m\u001b[0;34m*\u001b[0m\u001b[0mexc_info\u001b[0m\u001b[0;34m)\u001b[0m\u001b[0;34m\u001b[0m\u001b[0;34m\u001b[0m\u001b[0m\n\u001b[0m\u001b[1;32m   1476\u001b[0m \u001b[0;34m\u001b[0m\u001b[0m\n\u001b[1;32m   1477\u001b[0m         \u001b[0;32mfinally\u001b[0m\u001b[0;34m:\u001b[0m\u001b[0;34m\u001b[0m\u001b[0;34m\u001b[0m\u001b[0m\n",
      "\u001b[0;32m~/opt/anaconda3/lib/python3.7/site-packages/sqlalchemy/util/compat.py\u001b[0m in \u001b[0;36mreraise\u001b[0;34m(tp, value, tb, cause)\u001b[0m\n\u001b[1;32m    151\u001b[0m         \u001b[0;32mif\u001b[0m \u001b[0mvalue\u001b[0m\u001b[0;34m.\u001b[0m\u001b[0m__traceback__\u001b[0m \u001b[0;32mis\u001b[0m \u001b[0;32mnot\u001b[0m \u001b[0mtb\u001b[0m\u001b[0;34m:\u001b[0m\u001b[0;34m\u001b[0m\u001b[0;34m\u001b[0m\u001b[0m\n\u001b[1;32m    152\u001b[0m             \u001b[0;32mraise\u001b[0m \u001b[0mvalue\u001b[0m\u001b[0;34m.\u001b[0m\u001b[0mwith_traceback\u001b[0m\u001b[0;34m(\u001b[0m\u001b[0mtb\u001b[0m\u001b[0;34m)\u001b[0m\u001b[0;34m\u001b[0m\u001b[0;34m\u001b[0m\u001b[0m\n\u001b[0;32m--> 153\u001b[0;31m         \u001b[0;32mraise\u001b[0m \u001b[0mvalue\u001b[0m\u001b[0;34m\u001b[0m\u001b[0;34m\u001b[0m\u001b[0m\n\u001b[0m\u001b[1;32m    154\u001b[0m \u001b[0;34m\u001b[0m\u001b[0m\n\u001b[1;32m    155\u001b[0m     \u001b[0;32mdef\u001b[0m \u001b[0mu\u001b[0m\u001b[0;34m(\u001b[0m\u001b[0ms\u001b[0m\u001b[0;34m)\u001b[0m\u001b[0;34m:\u001b[0m\u001b[0;34m\u001b[0m\u001b[0;34m\u001b[0m\u001b[0m\n",
      "\u001b[0;32m~/opt/anaconda3/lib/python3.7/site-packages/sqlalchemy/engine/result.py\u001b[0m in \u001b[0;36mfetchone\u001b[0;34m(self)\u001b[0m\n\u001b[1;32m   1264\u001b[0m         \"\"\"\n\u001b[1;32m   1265\u001b[0m         \u001b[0;32mtry\u001b[0m\u001b[0;34m:\u001b[0m\u001b[0;34m\u001b[0m\u001b[0;34m\u001b[0m\u001b[0m\n\u001b[0;32m-> 1266\u001b[0;31m             \u001b[0mrow\u001b[0m \u001b[0;34m=\u001b[0m \u001b[0mself\u001b[0m\u001b[0;34m.\u001b[0m\u001b[0m_fetchone_impl\u001b[0m\u001b[0;34m(\u001b[0m\u001b[0;34m)\u001b[0m\u001b[0;34m\u001b[0m\u001b[0;34m\u001b[0m\u001b[0m\n\u001b[0m\u001b[1;32m   1267\u001b[0m             \u001b[0;32mif\u001b[0m \u001b[0mrow\u001b[0m \u001b[0;32mis\u001b[0m \u001b[0;32mnot\u001b[0m \u001b[0;32mNone\u001b[0m\u001b[0;34m:\u001b[0m\u001b[0;34m\u001b[0m\u001b[0;34m\u001b[0m\u001b[0m\n\u001b[1;32m   1268\u001b[0m                 \u001b[0;32mreturn\u001b[0m \u001b[0mself\u001b[0m\u001b[0;34m.\u001b[0m\u001b[0mprocess_rows\u001b[0m\u001b[0;34m(\u001b[0m\u001b[0;34m[\u001b[0m\u001b[0mrow\u001b[0m\u001b[0;34m]\u001b[0m\u001b[0;34m)\u001b[0m\u001b[0;34m[\u001b[0m\u001b[0;36m0\u001b[0m\u001b[0;34m]\u001b[0m\u001b[0;34m\u001b[0m\u001b[0;34m\u001b[0m\u001b[0m\n",
      "\u001b[0;32m~/opt/anaconda3/lib/python3.7/site-packages/sqlalchemy/engine/result.py\u001b[0m in \u001b[0;36m_fetchone_impl\u001b[0;34m(self)\u001b[0m\n\u001b[1;32m   1146\u001b[0m             \u001b[0;32mreturn\u001b[0m \u001b[0mself\u001b[0m\u001b[0;34m.\u001b[0m\u001b[0mcursor\u001b[0m\u001b[0;34m.\u001b[0m\u001b[0mfetchone\u001b[0m\u001b[0;34m(\u001b[0m\u001b[0;34m)\u001b[0m\u001b[0;34m\u001b[0m\u001b[0;34m\u001b[0m\u001b[0m\n\u001b[1;32m   1147\u001b[0m         \u001b[0;32mexcept\u001b[0m \u001b[0mAttributeError\u001b[0m\u001b[0;34m:\u001b[0m\u001b[0;34m\u001b[0m\u001b[0;34m\u001b[0m\u001b[0m\n\u001b[0;32m-> 1148\u001b[0;31m             \u001b[0;32mreturn\u001b[0m \u001b[0mself\u001b[0m\u001b[0;34m.\u001b[0m\u001b[0m_non_result\u001b[0m\u001b[0;34m(\u001b[0m\u001b[0;32mNone\u001b[0m\u001b[0;34m)\u001b[0m\u001b[0;34m\u001b[0m\u001b[0;34m\u001b[0m\u001b[0m\n\u001b[0m\u001b[1;32m   1149\u001b[0m \u001b[0;34m\u001b[0m\u001b[0m\n\u001b[1;32m   1150\u001b[0m     \u001b[0;32mdef\u001b[0m \u001b[0m_fetchmany_impl\u001b[0m\u001b[0;34m(\u001b[0m\u001b[0mself\u001b[0m\u001b[0;34m,\u001b[0m \u001b[0msize\u001b[0m\u001b[0;34m=\u001b[0m\u001b[0;32mNone\u001b[0m\u001b[0;34m)\u001b[0m\u001b[0;34m:\u001b[0m\u001b[0;34m\u001b[0m\u001b[0;34m\u001b[0m\u001b[0m\n",
      "\u001b[0;32m~/opt/anaconda3/lib/python3.7/site-packages/sqlalchemy/engine/result.py\u001b[0m in \u001b[0;36m_non_result\u001b[0;34m(self, default)\u001b[0m\n\u001b[1;32m   1166\u001b[0m         \u001b[0;32mif\u001b[0m \u001b[0mself\u001b[0m\u001b[0;34m.\u001b[0m\u001b[0m_metadata\u001b[0m \u001b[0;32mis\u001b[0m \u001b[0;32mNone\u001b[0m\u001b[0;34m:\u001b[0m\u001b[0;34m\u001b[0m\u001b[0;34m\u001b[0m\u001b[0m\n\u001b[1;32m   1167\u001b[0m             raise exc.ResourceClosedError(\n\u001b[0;32m-> 1168\u001b[0;31m                 \u001b[0;34m\"This result object does not return rows. \"\u001b[0m\u001b[0;34m\u001b[0m\u001b[0;34m\u001b[0m\u001b[0m\n\u001b[0m\u001b[1;32m   1169\u001b[0m                 \u001b[0;34m\"It has been closed automatically.\"\u001b[0m\u001b[0;34m\u001b[0m\u001b[0;34m\u001b[0m\u001b[0m\n\u001b[1;32m   1170\u001b[0m             )\n",
      "\u001b[0;31mResourceClosedError\u001b[0m: This result object does not return rows. It has been closed automatically."
     ]
    }
   ],
   "source": [
    "with engine.connect() as con:\n",
    "\n",
    "    rs = con.execute(\"\"\"\n",
    "    CREATE TABLE lga_summary AS\n",
    "    SELECT \n",
    "        \"LGA_NAME\"\n",
    "        , COUNT(DISTINCT(\"ACCIDENT_NO\")) AS no_accidents\n",
    "    FROM accidents\n",
    "    GROUP BY \"LGA_NAME\"\n",
    "    ORDER BY no_accidents DESC;\n",
    "    \n",
    "    \"\"\")\n"
   ]
  },
  {
   "cell_type": "code",
   "execution_count": 4,
   "metadata": {},
   "outputs": [
    {
     "name": "stdout",
     "output_type": "stream",
     "text": [
      "[('d4jhuntcv1di7g', 'public', 'vehicles', 'BASE TABLE', None, None, None, None, None, 'YES', 'NO', None), ('d4jhuntcv1di7g', 'public', 'master_data', 'BASE TABLE', None, None, None, None, None, 'YES', 'NO', None), ('d4jhuntcv1di7g', 'public', 'accidents', 'BASE TABLE', None, None, None, None, None, 'YES', 'NO', None), ('d4jhuntcv1di7g', 'public', 'test_vehicles', 'BASE TABLE', None, None, None, None, None, 'YES', 'NO', None), ('d4jhuntcv1di7g', 'public', 'lga_summary', 'BASE TABLE', None, None, None, None, None, 'YES', 'NO', None), ('d4jhuntcv1di7g', 'pg_catalog', 'pg_type', 'BASE TABLE', None, None, None, None, None, 'YES', 'NO', None), ('d4jhuntcv1di7g', 'pg_catalog', 'pg_foreign_table', 'BASE TABLE', None, None, None, None, None, 'YES', 'NO', None), ('d4jhuntcv1di7g', 'pg_catalog', 'pg_roles', 'VIEW', None, None, None, None, None, 'NO', 'NO', None), ('d4jhuntcv1di7g', 'pg_catalog', 'pg_settings', 'VIEW', None, None, None, None, None, 'NO', 'NO', None), ('d4jhuntcv1di7g', 'pg_catalog', 'pg_prepared_statements', 'VIEW', None, None, None, None, None, 'NO', 'NO', None), ('d4jhuntcv1di7g', 'pg_catalog', 'pg_stat_progress_vacuum', 'VIEW', None, None, None, None, None, 'NO', 'NO', None), ('d4jhuntcv1di7g', 'pg_catalog', 'pg_subscription', 'BASE TABLE', None, None, None, None, None, 'YES', 'NO', None), ('d4jhuntcv1di7g', 'pg_catalog', 'pg_attribute', 'BASE TABLE', None, None, None, None, None, 'YES', 'NO', None), ('d4jhuntcv1di7g', 'pg_catalog', 'pg_proc', 'BASE TABLE', None, None, None, None, None, 'YES', 'NO', None), ('d4jhuntcv1di7g', 'pg_catalog', 'pg_class', 'BASE TABLE', None, None, None, None, None, 'YES', 'NO', None), ('d4jhuntcv1di7g', 'pg_catalog', 'pg_attrdef', 'BASE TABLE', None, None, None, None, None, 'YES', 'NO', None), ('d4jhuntcv1di7g', 'pg_catalog', 'pg_constraint', 'BASE TABLE', None, None, None, None, None, 'YES', 'NO', None), ('d4jhuntcv1di7g', 'pg_catalog', 'pg_inherits', 'BASE TABLE', None, None, None, None, None, 'YES', 'NO', None), ('d4jhuntcv1di7g', 'pg_catalog', 'pg_index', 'BASE TABLE', None, None, None, None, None, 'YES', 'NO', None), ('d4jhuntcv1di7g', 'pg_catalog', 'pg_operator', 'BASE TABLE', None, None, None, None, None, 'YES', 'NO', None), ('d4jhuntcv1di7g', 'pg_catalog', 'pg_opfamily', 'BASE TABLE', None, None, None, None, None, 'YES', 'NO', None), ('d4jhuntcv1di7g', 'pg_catalog', 'pg_opclass', 'BASE TABLE', None, None, None, None, None, 'YES', 'NO', None), ('d4jhuntcv1di7g', 'pg_catalog', 'pg_am', 'BASE TABLE', None, None, None, None, None, 'YES', 'NO', None), ('d4jhuntcv1di7g', 'pg_catalog', 'pg_amop', 'BASE TABLE', None, None, None, None, None, 'YES', 'NO', None), ('d4jhuntcv1di7g', 'pg_catalog', 'pg_amproc', 'BASE TABLE', None, None, None, None, None, 'YES', 'NO', None), ('d4jhuntcv1di7g', 'pg_catalog', 'pg_language', 'BASE TABLE', None, None, None, None, None, 'YES', 'NO', None), ('d4jhuntcv1di7g', 'pg_catalog', 'pg_largeobject_metadata', 'BASE TABLE', None, None, None, None, None, 'YES', 'NO', None), ('d4jhuntcv1di7g', 'pg_catalog', 'pg_aggregate', 'BASE TABLE', None, None, None, None, None, 'YES', 'NO', None), ('d4jhuntcv1di7g', 'pg_catalog', 'pg_statistic_ext', 'BASE TABLE', None, None, None, None, None, 'YES', 'NO', None), ('d4jhuntcv1di7g', 'pg_catalog', 'pg_rewrite', 'BASE TABLE', None, None, None, None, None, 'YES', 'NO', None), ('d4jhuntcv1di7g', 'pg_catalog', 'pg_trigger', 'BASE TABLE', None, None, None, None, None, 'YES', 'NO', None), ('d4jhuntcv1di7g', 'pg_catalog', 'pg_event_trigger', 'BASE TABLE', None, None, None, None, None, 'YES', 'NO', None), ('d4jhuntcv1di7g', 'pg_catalog', 'pg_description', 'BASE TABLE', None, None, None, None, None, 'YES', 'NO', None), ('d4jhuntcv1di7g', 'pg_catalog', 'pg_cast', 'BASE TABLE', None, None, None, None, None, 'YES', 'NO', None), ('d4jhuntcv1di7g', 'pg_catalog', 'pg_stat_progress_cluster', 'VIEW', None, None, None, None, None, 'NO', 'NO', None), ('d4jhuntcv1di7g', 'pg_catalog', 'pg_stat_progress_create_index', 'VIEW', None, None, None, None, None, 'NO', 'NO', None), ('d4jhuntcv1di7g', 'pg_catalog', 'pg_stat_progress_basebackup', 'VIEW', None, None, None, None, None, 'NO', 'NO', None), ('d4jhuntcv1di7g', 'pg_catalog', 'pg_user_mappings', 'VIEW', None, None, None, None, None, 'NO', 'NO', None), ('d4jhuntcv1di7g', 'pg_catalog', 'pg_enum', 'BASE TABLE', None, None, None, None, None, 'YES', 'NO', None), ('d4jhuntcv1di7g', 'pg_catalog', 'pg_namespace', 'BASE TABLE', None, None, None, None, None, 'YES', 'NO', None), ('d4jhuntcv1di7g', 'pg_catalog', 'pg_conversion', 'BASE TABLE', None, None, None, None, None, 'YES', 'NO', None), ('d4jhuntcv1di7g', 'pg_catalog', 'pg_depend', 'BASE TABLE', None, None, None, None, None, 'YES', 'NO', None), ('d4jhuntcv1di7g', 'pg_catalog', 'pg_database', 'BASE TABLE', None, None, None, None, None, 'YES', 'NO', None), ('d4jhuntcv1di7g', 'pg_catalog', 'pg_db_role_setting', 'BASE TABLE', None, None, None, None, None, 'YES', 'NO', None), ('d4jhuntcv1di7g', 'pg_catalog', 'pg_tablespace', 'BASE TABLE', None, None, None, None, None, 'YES', 'NO', None), ('d4jhuntcv1di7g', 'pg_catalog', 'pg_auth_members', 'BASE TABLE', None, None, None, None, None, 'YES', 'NO', None), ('d4jhuntcv1di7g', 'pg_catalog', 'pg_shdepend', 'BASE TABLE', None, None, None, None, None, 'YES', 'NO', None), ('d4jhuntcv1di7g', 'pg_catalog', 'pg_shdescription', 'BASE TABLE', None, None, None, None, None, 'YES', 'NO', None), ('d4jhuntcv1di7g', 'pg_catalog', 'pg_ts_config', 'BASE TABLE', None, None, None, None, None, 'YES', 'NO', None), ('d4jhuntcv1di7g', 'pg_catalog', 'pg_ts_config_map', 'BASE TABLE', None, None, None, None, None, 'YES', 'NO', None), ('d4jhuntcv1di7g', 'pg_catalog', 'pg_ts_dict', 'BASE TABLE', None, None, None, None, None, 'YES', 'NO', None), ('d4jhuntcv1di7g', 'pg_catalog', 'pg_ts_parser', 'BASE TABLE', None, None, None, None, None, 'YES', 'NO', None), ('d4jhuntcv1di7g', 'pg_catalog', 'pg_ts_template', 'BASE TABLE', None, None, None, None, None, 'YES', 'NO', None), ('d4jhuntcv1di7g', 'pg_catalog', 'pg_extension', 'BASE TABLE', None, None, None, None, None, 'YES', 'NO', None), ('d4jhuntcv1di7g', 'pg_catalog', 'pg_foreign_data_wrapper', 'BASE TABLE', None, None, None, None, None, 'YES', 'NO', None), ('d4jhuntcv1di7g', 'pg_catalog', 'pg_foreign_server', 'BASE TABLE', None, None, None, None, None, 'YES', 'NO', None), ('d4jhuntcv1di7g', 'pg_catalog', 'pg_policy', 'BASE TABLE', None, None, None, None, None, 'YES', 'NO', None), ('d4jhuntcv1di7g', 'pg_catalog', 'pg_replication_origin', 'BASE TABLE', None, None, None, None, None, 'YES', 'NO', None), ('d4jhuntcv1di7g', 'pg_catalog', 'pg_default_acl', 'BASE TABLE', None, None, None, None, None, 'YES', 'NO', None), ('d4jhuntcv1di7g', 'pg_catalog', 'pg_init_privs', 'BASE TABLE', None, None, None, None, None, 'YES', 'NO', None), ('d4jhuntcv1di7g', 'pg_catalog', 'pg_seclabel', 'BASE TABLE', None, None, None, None, None, 'YES', 'NO', None), ('d4jhuntcv1di7g', 'pg_catalog', 'pg_shseclabel', 'BASE TABLE', None, None, None, None, None, 'YES', 'NO', None), ('d4jhuntcv1di7g', 'pg_catalog', 'pg_collation', 'BASE TABLE', None, None, None, None, None, 'YES', 'NO', None), ('d4jhuntcv1di7g', 'pg_catalog', 'pg_partitioned_table', 'BASE TABLE', None, None, None, None, None, 'YES', 'NO', None), ('d4jhuntcv1di7g', 'pg_catalog', 'pg_range', 'BASE TABLE', None, None, None, None, None, 'YES', 'NO', None), ('d4jhuntcv1di7g', 'pg_catalog', 'pg_transform', 'BASE TABLE', None, None, None, None, None, 'YES', 'NO', None), ('d4jhuntcv1di7g', 'pg_catalog', 'pg_sequence', 'BASE TABLE', None, None, None, None, None, 'YES', 'NO', None), ('d4jhuntcv1di7g', 'pg_catalog', 'pg_publication', 'BASE TABLE', None, None, None, None, None, 'YES', 'NO', None), ('d4jhuntcv1di7g', 'pg_catalog', 'pg_publication_rel', 'BASE TABLE', None, None, None, None, None, 'YES', 'NO', None), ('d4jhuntcv1di7g', 'pg_catalog', 'pg_subscription_rel', 'BASE TABLE', None, None, None, None, None, 'YES', 'NO', None), ('d4jhuntcv1di7g', 'pg_catalog', 'pg_group', 'VIEW', None, None, None, None, None, 'YES', 'NO', None), ('d4jhuntcv1di7g', 'pg_catalog', 'pg_user', 'VIEW', None, None, None, None, None, 'NO', 'NO', None), ('d4jhuntcv1di7g', 'pg_catalog', 'pg_policies', 'VIEW', None, None, None, None, None, 'NO', 'NO', None), ('d4jhuntcv1di7g', 'pg_catalog', 'pg_rules', 'VIEW', None, None, None, None, None, 'NO', 'NO', None), ('d4jhuntcv1di7g', 'pg_catalog', 'pg_views', 'VIEW', None, None, None, None, None, 'NO', 'NO', None), ('d4jhuntcv1di7g', 'pg_catalog', 'pg_tables', 'VIEW', None, None, None, None, None, 'NO', 'NO', None), ('d4jhuntcv1di7g', 'pg_catalog', 'pg_matviews', 'VIEW', None, None, None, None, None, 'NO', 'NO', None), ('d4jhuntcv1di7g', 'pg_catalog', 'pg_indexes', 'VIEW', None, None, None, None, None, 'NO', 'NO', None), ('d4jhuntcv1di7g', 'pg_catalog', 'pg_sequences', 'VIEW', None, None, None, None, None, 'NO', 'NO', None), ('d4jhuntcv1di7g', 'pg_catalog', 'pg_stats', 'VIEW', None, None, None, None, None, 'NO', 'NO', None), ('d4jhuntcv1di7g', 'pg_catalog', 'pg_stats_ext', 'VIEW', None, None, None, None, None, 'NO', 'NO', None), ('d4jhuntcv1di7g', 'pg_catalog', 'pg_publication_tables', 'VIEW', None, None, None, None, None, 'NO', 'NO', None), ('d4jhuntcv1di7g', 'pg_catalog', 'pg_locks', 'VIEW', None, None, None, None, None, 'NO', 'NO', None), ('d4jhuntcv1di7g', 'pg_catalog', 'pg_cursors', 'VIEW', None, None, None, None, None, 'NO', 'NO', None), ('d4jhuntcv1di7g', 'pg_catalog', 'pg_available_extensions', 'VIEW', None, None, None, None, None, 'NO', 'NO', None), ('d4jhuntcv1di7g', 'pg_catalog', 'pg_available_extension_versions', 'VIEW', None, None, None, None, None, 'NO', 'NO', None), ('d4jhuntcv1di7g', 'pg_catalog', 'pg_prepared_xacts', 'VIEW', None, None, None, None, None, 'NO', 'NO', None), ('d4jhuntcv1di7g', 'pg_catalog', 'pg_seclabels', 'VIEW', None, None, None, None, None, 'NO', 'NO', None), ('d4jhuntcv1di7g', 'pg_catalog', 'pg_statio_user_tables', 'VIEW', None, None, None, None, None, 'NO', 'NO', None), ('d4jhuntcv1di7g', 'pg_catalog', 'pg_stat_all_indexes', 'VIEW', None, None, None, None, None, 'NO', 'NO', None), ('d4jhuntcv1di7g', 'pg_catalog', 'pg_timezone_abbrevs', 'VIEW', None, None, None, None, None, 'NO', 'NO', None), ('d4jhuntcv1di7g', 'pg_catalog', 'pg_timezone_names', 'VIEW', None, None, None, None, None, 'NO', 'NO', None), ('d4jhuntcv1di7g', 'pg_catalog', 'pg_stat_sys_indexes', 'VIEW', None, None, None, None, None, 'NO', 'NO', None), ('d4jhuntcv1di7g', 'pg_catalog', 'pg_stat_all_tables', 'VIEW', None, None, None, None, None, 'NO', 'NO', None), ('d4jhuntcv1di7g', 'pg_catalog', 'pg_stat_xact_all_tables', 'VIEW', None, None, None, None, None, 'NO', 'NO', None), ('d4jhuntcv1di7g', 'pg_catalog', 'pg_stat_sys_tables', 'VIEW', None, None, None, None, None, 'NO', 'NO', None), ('d4jhuntcv1di7g', 'pg_catalog', 'pg_stat_xact_sys_tables', 'VIEW', None, None, None, None, None, 'NO', 'NO', None), ('d4jhuntcv1di7g', 'pg_catalog', 'pg_stat_user_tables', 'VIEW', None, None, None, None, None, 'NO', 'NO', None), ('d4jhuntcv1di7g', 'pg_catalog', 'pg_stat_xact_user_tables', 'VIEW', None, None, None, None, None, 'NO', 'NO', None), ('d4jhuntcv1di7g', 'pg_catalog', 'pg_statio_all_tables', 'VIEW', None, None, None, None, None, 'NO', 'NO', None), ('d4jhuntcv1di7g', 'pg_catalog', 'pg_statio_sys_tables', 'VIEW', None, None, None, None, None, 'NO', 'NO', None), ('d4jhuntcv1di7g', 'pg_catalog', 'pg_stat_user_indexes', 'VIEW', None, None, None, None, None, 'NO', 'NO', None), ('d4jhuntcv1di7g', 'pg_catalog', 'pg_statio_all_indexes', 'VIEW', None, None, None, None, None, 'NO', 'NO', None), ('d4jhuntcv1di7g', 'pg_catalog', 'pg_statio_sys_indexes', 'VIEW', None, None, None, None, None, 'NO', 'NO', None), ('d4jhuntcv1di7g', 'pg_catalog', 'pg_statio_user_indexes', 'VIEW', None, None, None, None, None, 'NO', 'NO', None), ('d4jhuntcv1di7g', 'pg_catalog', 'pg_statio_all_sequences', 'VIEW', None, None, None, None, None, 'NO', 'NO', None), ('d4jhuntcv1di7g', 'pg_catalog', 'pg_statio_sys_sequences', 'VIEW', None, None, None, None, None, 'NO', 'NO', None), ('d4jhuntcv1di7g', 'pg_catalog', 'pg_statio_user_sequences', 'VIEW', None, None, None, None, None, 'NO', 'NO', None), ('d4jhuntcv1di7g', 'pg_catalog', 'pg_stat_activity', 'VIEW', None, None, None, None, None, 'NO', 'NO', None), ('d4jhuntcv1di7g', 'pg_catalog', 'pg_stat_replication', 'VIEW', None, None, None, None, None, 'NO', 'NO', None), ('d4jhuntcv1di7g', 'pg_catalog', 'pg_stat_slru', 'VIEW', None, None, None, None, None, 'NO', 'NO', None), ('d4jhuntcv1di7g', 'pg_catalog', 'pg_stat_wal_receiver', 'VIEW', None, None, None, None, None, 'NO', 'NO', None), ('d4jhuntcv1di7g', 'pg_catalog', 'pg_stat_subscription', 'VIEW', None, None, None, None, None, 'NO', 'NO', None), ('d4jhuntcv1di7g', 'pg_catalog', 'pg_stat_ssl', 'VIEW', None, None, None, None, None, 'NO', 'NO', None), ('d4jhuntcv1di7g', 'pg_catalog', 'pg_stat_gssapi', 'VIEW', None, None, None, None, None, 'NO', 'NO', None), ('d4jhuntcv1di7g', 'pg_catalog', 'pg_replication_slots', 'VIEW', None, None, None, None, None, 'NO', 'NO', None), ('d4jhuntcv1di7g', 'pg_catalog', 'pg_stat_database', 'VIEW', None, None, None, None, None, 'NO', 'NO', None), ('d4jhuntcv1di7g', 'pg_catalog', 'pg_stat_database_conflicts', 'VIEW', None, None, None, None, None, 'YES', 'NO', None), ('d4jhuntcv1di7g', 'pg_catalog', 'pg_stat_user_functions', 'VIEW', None, None, None, None, None, 'NO', 'NO', None), ('d4jhuntcv1di7g', 'pg_catalog', 'pg_stat_xact_user_functions', 'VIEW', None, None, None, None, None, 'NO', 'NO', None), ('d4jhuntcv1di7g', 'pg_catalog', 'pg_stat_archiver', 'VIEW', None, None, None, None, None, 'NO', 'NO', None), ('d4jhuntcv1di7g', 'pg_catalog', 'pg_stat_bgwriter', 'VIEW', None, None, None, None, None, 'NO', 'NO', None), ('d4jhuntcv1di7g', 'pg_catalog', 'pg_stat_progress_analyze', 'VIEW', None, None, None, None, None, 'NO', 'NO', None), ('d4jhuntcv1di7g', 'information_schema', 'columns', 'VIEW', None, None, None, None, None, 'NO', 'NO', None), ('d4jhuntcv1di7g', 'information_schema', 'information_schema_catalog_name', 'VIEW', None, None, None, None, None, 'NO', 'NO', None), ('d4jhuntcv1di7g', 'information_schema', 'collations', 'VIEW', None, None, None, None, None, 'NO', 'NO', None), ('d4jhuntcv1di7g', 'information_schema', 'applicable_roles', 'VIEW', None, None, None, None, None, 'NO', 'NO', None), ('d4jhuntcv1di7g', 'information_schema', 'administrable_role_authorizations', 'VIEW', None, None, None, None, None, 'NO', 'NO', None), ('d4jhuntcv1di7g', 'information_schema', 'column_privileges', 'VIEW', None, None, None, None, None, 'NO', 'NO', None), ('d4jhuntcv1di7g', 'information_schema', 'attributes', 'VIEW', None, None, None, None, None, 'NO', 'NO', None), ('d4jhuntcv1di7g', 'information_schema', 'collation_character_set_applicability', 'VIEW', None, None, None, None, None, 'NO', 'NO', None), ('d4jhuntcv1di7g', 'information_schema', 'character_sets', 'VIEW', None, None, None, None, None, 'NO', 'NO', None), ('d4jhuntcv1di7g', 'information_schema', 'check_constraint_routine_usage', 'VIEW', None, None, None, None, None, 'NO', 'NO', None), ('d4jhuntcv1di7g', 'information_schema', 'check_constraints', 'VIEW', None, None, None, None, None, 'NO', 'NO', None), ('d4jhuntcv1di7g', 'information_schema', 'column_column_usage', 'VIEW', None, None, None, None, None, 'NO', 'NO', None), ('d4jhuntcv1di7g', 'information_schema', 'column_domain_usage', 'VIEW', None, None, None, None, None, 'NO', 'NO', None), ('d4jhuntcv1di7g', 'information_schema', 'column_udt_usage', 'VIEW', None, None, None, None, None, 'NO', 'NO', None), ('d4jhuntcv1di7g', 'information_schema', 'constraint_column_usage', 'VIEW', None, None, None, None, None, 'NO', 'NO', None), ('d4jhuntcv1di7g', 'information_schema', 'constraint_table_usage', 'VIEW', None, None, None, None, None, 'NO', 'NO', None), ('d4jhuntcv1di7g', 'information_schema', 'domain_constraints', 'VIEW', None, None, None, None, None, 'NO', 'NO', None), ('d4jhuntcv1di7g', 'information_schema', 'domain_udt_usage', 'VIEW', None, None, None, None, None, 'NO', 'NO', None), ('d4jhuntcv1di7g', 'information_schema', 'domains', 'VIEW', None, None, None, None, None, 'NO', 'NO', None), ('d4jhuntcv1di7g', 'information_schema', 'enabled_roles', 'VIEW', None, None, None, None, None, 'NO', 'NO', None), ('d4jhuntcv1di7g', 'information_schema', 'sql_implementation_info', 'BASE TABLE', None, None, None, None, None, 'YES', 'NO', None), ('d4jhuntcv1di7g', 'information_schema', 'key_column_usage', 'VIEW', None, None, None, None, None, 'NO', 'NO', None), ('d4jhuntcv1di7g', 'information_schema', 'parameters', 'VIEW', None, None, None, None, None, 'NO', 'NO', None), ('d4jhuntcv1di7g', 'information_schema', 'referential_constraints', 'VIEW', None, None, None, None, None, 'NO', 'NO', None), ('d4jhuntcv1di7g', 'information_schema', 'role_column_grants', 'VIEW', None, None, None, None, None, 'NO', 'NO', None), ('d4jhuntcv1di7g', 'information_schema', 'routine_privileges', 'VIEW', None, None, None, None, None, 'NO', 'NO', None), ('d4jhuntcv1di7g', 'information_schema', 'role_routine_grants', 'VIEW', None, None, None, None, None, 'NO', 'NO', None), ('d4jhuntcv1di7g', 'information_schema', 'routines', 'VIEW', None, None, None, None, None, 'NO', 'NO', None), ('d4jhuntcv1di7g', 'information_schema', 'schemata', 'VIEW', None, None, None, None, None, 'NO', 'NO', None), ('d4jhuntcv1di7g', 'information_schema', 'tables', 'VIEW', None, None, None, None, None, 'NO', 'NO', None), ('d4jhuntcv1di7g', 'information_schema', 'sequences', 'VIEW', None, None, None, None, None, 'NO', 'NO', None), ('d4jhuntcv1di7g', 'information_schema', 'sql_sizing', 'BASE TABLE', None, None, None, None, None, 'YES', 'NO', None), ('d4jhuntcv1di7g', 'information_schema', 'sql_features', 'BASE TABLE', None, None, None, None, None, 'YES', 'NO', None), ('d4jhuntcv1di7g', 'information_schema', 'table_constraints', 'VIEW', None, None, None, None, None, 'NO', 'NO', None), ('d4jhuntcv1di7g', 'information_schema', 'table_privileges', 'VIEW', None, None, None, None, None, 'NO', 'NO', None), ('d4jhuntcv1di7g', 'information_schema', 'role_table_grants', 'VIEW', None, None, None, None, None, 'NO', 'NO', None), ('d4jhuntcv1di7g', 'information_schema', 'udt_privileges', 'VIEW', None, None, None, None, None, 'NO', 'NO', None), ('d4jhuntcv1di7g', 'information_schema', 'triggered_update_columns', 'VIEW', None, None, None, None, None, 'NO', 'NO', None), ('d4jhuntcv1di7g', 'information_schema', 'triggers', 'VIEW', None, None, None, None, None, 'NO', 'NO', None), ('d4jhuntcv1di7g', 'information_schema', 'usage_privileges', 'VIEW', None, None, None, None, None, 'NO', 'NO', None), ('d4jhuntcv1di7g', 'information_schema', 'role_udt_grants', 'VIEW', None, None, None, None, None, 'NO', 'NO', None), ('d4jhuntcv1di7g', 'information_schema', 'role_usage_grants', 'VIEW', None, None, None, None, None, 'NO', 'NO', None), ('d4jhuntcv1di7g', 'information_schema', 'user_defined_types', 'VIEW', None, None, None, None, None, 'NO', 'NO', None), ('d4jhuntcv1di7g', 'information_schema', 'view_column_usage', 'VIEW', None, None, None, None, None, 'NO', 'NO', None), ('d4jhuntcv1di7g', 'information_schema', 'view_routine_usage', 'VIEW', None, None, None, None, None, 'NO', 'NO', None), ('d4jhuntcv1di7g', 'information_schema', 'view_table_usage', 'VIEW', None, None, None, None, None, 'NO', 'NO', None), ('d4jhuntcv1di7g', 'information_schema', 'foreign_tables', 'VIEW', None, None, None, None, None, 'NO', 'NO', None), ('d4jhuntcv1di7g', 'information_schema', 'views', 'VIEW', None, None, None, None, None, 'NO', 'NO', None), ('d4jhuntcv1di7g', 'information_schema', 'data_type_privileges', 'VIEW', None, None, None, None, None, 'NO', 'NO', None), ('d4jhuntcv1di7g', 'information_schema', 'element_types', 'VIEW', None, None, None, None, None, 'NO', 'NO', None), ('d4jhuntcv1di7g', 'information_schema', 'column_options', 'VIEW', None, None, None, None, None, 'NO', 'NO', None), ('d4jhuntcv1di7g', 'information_schema', 'foreign_data_wrapper_options', 'VIEW', None, None, None, None, None, 'NO', 'NO', None), ('d4jhuntcv1di7g', 'information_schema', 'user_mapping_options', 'VIEW', None, None, None, None, None, 'NO', 'NO', None), ('d4jhuntcv1di7g', 'information_schema', 'foreign_data_wrappers', 'VIEW', None, None, None, None, None, 'NO', 'NO', None), ('d4jhuntcv1di7g', 'information_schema', 'foreign_server_options', 'VIEW', None, None, None, None, None, 'NO', 'NO', None), ('d4jhuntcv1di7g', 'information_schema', 'foreign_servers', 'VIEW', None, None, None, None, None, 'NO', 'NO', None), ('d4jhuntcv1di7g', 'information_schema', 'user_mappings', 'VIEW', None, None, None, None, None, 'NO', 'NO', None), ('d4jhuntcv1di7g', 'information_schema', 'foreign_table_options', 'VIEW', None, None, None, None, None, 'NO', 'NO', None)]\n"
     ]
    }
   ],
   "source": [
    "# some test tables still in db try to see what they are \n",
    "print(engine.execute(\n",
    "    \"\"\"\n",
    "    SELECT *\n",
    "    FROM INFORMATION_SCHEMA.TABLES;\n",
    "    \"\"\").fetchall())"
   ]
  },
  {
   "cell_type": "code",
   "execution_count": 31,
   "metadata": {},
   "outputs": [
    {
     "data": {
      "text/plain": [
       "[{'name': 'LGA_NAME',\n",
       "  'type': TEXT(),\n",
       "  'nullable': True,\n",
       "  'default': None,\n",
       "  'autoincrement': False,\n",
       "  'comment': None},\n",
       " {'name': 'no_accidents',\n",
       "  'type': BIGINT(),\n",
       "  'nullable': True,\n",
       "  'default': None,\n",
       "  'autoincrement': False,\n",
       "  'comment': None}]"
      ]
     },
     "execution_count": 31,
     "metadata": {},
     "output_type": "execute_result"
    }
   ],
   "source": [
    "# summary table details\n",
    "inspector = inspect(engine)\n",
    "inspector.get_columns('lga_summary')"
   ]
  },
  {
   "cell_type": "code",
   "execution_count": 5,
   "metadata": {},
   "outputs": [
    {
     "data": {
      "text/plain": [
       "<sqlalchemy.engine.result.ResultProxy at 0x7ff82ddd0090>"
      ]
     },
     "execution_count": 5,
     "metadata": {},
     "output_type": "execute_result"
    }
   ],
   "source": [
    "# dropping test tables \n",
    "# engine.execute(\"DROP TABLE test_vehicles\")"
   ]
  }
 ],
 "metadata": {
  "kernelspec": {
   "display_name": "Python 3",
   "language": "python",
   "name": "python3"
  },
  "language_info": {
   "codemirror_mode": {
    "name": "ipython",
    "version": 3
   },
   "file_extension": ".py",
   "mimetype": "text/x-python",
   "name": "python",
   "nbconvert_exporter": "python",
   "pygments_lexer": "ipython3",
   "version": "3.7.4"
  }
 },
 "nbformat": 4,
 "nbformat_minor": 2
}
